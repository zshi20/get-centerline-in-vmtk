{
 "cells": [
  {
   "cell_type": "code",
   "execution_count": 1,
   "id": "0a0cd2b6-efb3-420f-b9bf-9e49cb8cf8c7",
   "metadata": {},
   "outputs": [],
   "source": [
    "import numpy as np\n",
    "import vtk\n",
    "from vtk.numpy_interface import dataset_adapter as dsa\n",
    "import glob\n",
    "from vtk.util.numpy_support import vtk_to_numpy"
   ]
  },
  {
   "cell_type": "code",
   "execution_count": 3,
   "id": "5e133f32-468f-458c-b451-9c93aa077084",
   "metadata": {},
   "outputs": [
    {
     "name": "stdout",
     "output_type": "stream",
     "text": [
      "['C:\\\\CTEPH\\\\9A\\\\centerline_X.vtp']\n"
     ]
    }
   ],
   "source": [
    "working_directory = r'path\\to\\your\\working\\directory'\n",
    "path_files = glob.glob(working_directory+'\\\\'+'centerline_X.vtp') \n",
    "print(path_files)"
   ]
  },
  {
   "cell_type": "code",
   "execution_count": 4,
   "id": "28041dde-f9c6-40e8-831c-a6bbe208ed82",
   "metadata": {},
   "outputs": [],
   "source": [
    "for counter,filename in enumerate(path_files):\n",
    "    # counter = the number of centerline file in the working directory that glob algorithm extracts\n",
    "\n",
    "    reader = vtk.vtkXMLPolyDataReader()\n",
    "\n",
    "    # Set the name of input file of the polyDataReader object\n",
    "    reader.SetFileName(filename)\n",
    "    reader.Update()\n",
    "\n",
    "    # Get the data object from the polyDataReader object\n",
    "    polydata = reader.GetOutput()\n",
    "\n",
    "    pntsXYZ = dsa.WrapDataObject(polydata).Points\n",
    "\n",
    "    # header = dsa.WrapDataObject(polydata).GetPointData().keys()\n",
    "\n",
    "    MaxSphereRadius = dsa.WrapDataObject(polydata).GetPointData().GetArray(0)\n",
    "    MaxSphereRadius = MaxSphereRadius.astype('float32')\n",
    "    \n",
    "    EdgeArray = dsa.WrapDataObject(polydata).GetPointData().GetArray(1)\n",
    "    \n",
    "    EdgePCoordArray = dsa.WrapDataObject(polydata).GetPointData().GetArray(2)\n",
    "    \n",
    "    ConArray_vtk = dsa.WrapDataObject(polydata).GetLines().GetConnectivityArray()\n",
    "    ConnArray_np = vtk_to_numpy(ConArray_vtk) # datatype = numpy.ndarray\n",
    "    # there are supposed to multiple rows of data (see paraview: toggle cell connectivity visibility)\n",
    "    # multiple rows of data corresponds to multiple centerlines\n",
    "\n",
    "    # Save the outputted csv in the specified working directory. Counter serves as an index for bookkeeping purpose\n",
    "    np.savetxt(working_directory + '//'+'%d_centerline_pointsXYZ.csv' % counter, pntsXYZ)\n",
    "    np.savetxt(working_directory + '//'+'%d_centerline_Max_Sphere_Radius.csv' % counter, MaxSphereRadius)\n",
    "    np.savetxt(working_directory + '//'+'%d_centerline_Edge_Array.csv' % counter, EdgeArray)\n",
    "    np.savetxt(working_directory + '//'+'%d_centerline_Connectivity.csv' % counter, ConnArray_np)\n",
    "    "
   ]
  }
 ],
 "metadata": {
  "kernelspec": {
   "display_name": "Python 3 (ipykernel)",
   "language": "python",
   "name": "python3"
  },
  "language_info": {
   "codemirror_mode": {
    "name": "ipython",
    "version": 3
   },
   "file_extension": ".py",
   "mimetype": "text/x-python",
   "name": "python",
   "nbconvert_exporter": "python",
   "pygments_lexer": "ipython3",
   "version": "3.11.2"
  }
 },
 "nbformat": 4,
 "nbformat_minor": 5
}
